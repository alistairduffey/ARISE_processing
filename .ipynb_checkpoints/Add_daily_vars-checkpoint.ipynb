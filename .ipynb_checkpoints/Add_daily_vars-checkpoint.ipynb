{
 "cells": [
  {
   "cell_type": "markdown",
   "id": "ac9c047f-ed1a-44a0-b689-76a48602a75f",
   "metadata": {},
   "source": [
    "Notebook is a supplement to main. Caluclates time-independent maps of:\n",
    "* daily max rainfall (20-year mean of annual/seasonal maximum total 1day precip.)\n",
    "* daily max sfcWind (20-year mean of annual/seasonal maximum of the daily maximums)\n",
    "\n",
    "once we have these, tack them onto the existing nc files produced by Main"
   ]
  },
  {
   "cell_type": "code",
   "execution_count": 1,
   "id": "4ea522de-a4be-49dd-9ba0-3bf40c0207df",
   "metadata": {},
   "outputs": [],
   "source": [
    "import os\n",
    "import glob\n",
    "import pandas as pd\n",
    "import numpy as np\n",
    "import xarray as xr\n",
    "from xmip.preprocessing import rename_cmip6\n",
    "import matplotlib\n",
    "import matplotlib.pyplot as plt\n",
    "from nc_processing import calc_spatial_mean\n",
    "from tqdm import tqdm\n",
    "\n",
    "import warnings\n",
    "warnings.filterwarnings(\"ignore\")\n",
    "\n",
    "\n",
    "### options\n",
    "\n",
    "# Model\n",
    "model = 'UKESM1-0-LL' \n",
    "\n",
    "# SAI reference baseline (to be taken from joined historical-into-ssp245 runs)\n",
    "baseline_start, baseline_end = '2013','2032' # years are INCLUSIVE. gives warming of 1.49 in UKESM1, closest 20-year period to 1.5\n",
    "\n",
    "# SAI assessment period\n",
    "SAI_assessment_period_start, SAI_assessment_period_end = '2050', '2069' # years are INCLUSIVE\n",
    "\n",
    "# ARISE ensemble_members. We also only use these same members for the baseline\n",
    "ens_mems = ['r1i1p1f2', 'r2i1p1f2', 'r3i1p1f2', 'r4i1p1f2', 'r8i1p1f2']\n",
    "\n",
    "# seasons\n",
    "seasons = ['DJF', 'MAM', 'JJA', 'SON']\n",
    "\n",
    "# make SSP245 ensemble mean pr ds\n",
    "def get_ssp245_ds(variable, table='Amon'):\n",
    "    ds_list = []\n",
    "    for es in ens_mems:\n",
    "        path = '/badc/cmip6/data/CMIP6/ScenarioMIP/MOHC/UKESM1-0-LL/ssp245/{e}/{t}/{v}/*/latest/'.format(e=es, t=table,v=variable)\n",
    "        ds = rename_cmip6(xr.open_mfdataset(path+'*.nc'))\n",
    "        \n",
    "        path_hist = glob.glob('/badc/cmip6/data/CMIP6/*/*/UKESM1-0-LL/historical/{e}/{t}/{v}/*/latest/'.format(\n",
    "        t=table, v=variable, e=es))[0]\n",
    "        ds_hist = rename_cmip6(xr.open_mfdataset(path_hist+'*.nc'))    \n",
    "        ds = xr.concat([ds_hist, ds], dim='time')\n",
    "        ds = ds.sel(time=slice('1990', '2150'))\n",
    "        if 'height' in ds.variables:\n",
    "            ds = ds.drop('height')\n",
    "        if 'type' in ds.variables:\n",
    "            ds = ds.drop('type')\n",
    "        ds_list.append(ds)\n",
    "    \n",
    "    DS = xr.concat(ds_list, dim='Ensemble_member')\n",
    "    return DS\n",
    "\n",
    "## similar, for PiControl\n",
    "def get_pi(model, variable='tas', table='Amon'):\n",
    "    dir_pi = glob.glob('/badc/cmip6/data/CMIP6/*/*/{m}/piControl/r1i*/{t}/{v}/*/latest/'.format(m=model, t=table, v=variable))\n",
    "    files_pi = os.listdir(dir_pi[0])[0:3] # don't need the full length run\n",
    "    paths_pi = []\n",
    "    for x in files_pi:\n",
    "        paths_pi.append(dir_pi[0]+x)\n",
    "    ds = rename_cmip6(xr.open_mfdataset(paths_pi))\n",
    "    if 'height' in ds.variables:\n",
    "        ds = ds.drop('height')\n",
    "    if 'type' in ds.variables:\n",
    "        ds = ds.drop('type')\n",
    "    return ds\n",
    "\n",
    "## for ARISE\n",
    "def get_ARISE_UKESM(variable='tas', table='Amon'):\n",
    "    ds_list = []\n",
    "    paths = glob.glob('/badc/deposited2022/arise/data/ARISE/MOHC/UKESM1-0-LL/arise-sai-1p5/*/{t}/{v}/*/*/'.format(\n",
    "    t=table, v=variable))\n",
    "    for path in paths:\n",
    "        ds = rename_cmip6(xr.open_mfdataset(path+'*.nc'))\n",
    "        if 'height' in ds.variables:\n",
    "            ds = ds.drop('height')\n",
    "        if 'type' in ds.variables:\n",
    "            ds = ds.drop('type')\n",
    "        ds_list.append(ds)\n",
    "    DS = xr.concat(ds_list, dim='Ensemble_member')\n",
    "    return DS\n"
   ]
  },
  {
   "cell_type": "code",
   "execution_count": 3,
   "id": "b98ae165-fe7c-4bbb-868e-3e598f58e463",
   "metadata": {},
   "outputs": [],
   "source": [
    "################\n",
    "var = 'pr'\n",
    "################"
   ]
  },
  {
   "cell_type": "code",
   "execution_count": 4,
   "id": "e202e4b9-887e-4f05-9108-d5931c5c03b5",
   "metadata": {},
   "outputs": [],
   "source": [
    "ds = get_ssp245_ds(variable=var, table='day')"
   ]
  },
  {
   "cell_type": "code",
   "execution_count": null,
   "id": "2cdcf211-88f3-4f9d-b5de-7b51587e4e19",
   "metadata": {},
   "outputs": [],
   "source": []
  },
  {
   "cell_type": "code",
   "execution_count": 5,
   "id": "4ddba360-06eb-41ad-ac91-679338c3169d",
   "metadata": {},
   "outputs": [],
   "source": [
    "ds_seasonal = ds.resample(time=\"QS-DEC\").max()\n",
    "ds_annual = ds.resample(time=\"1Y\").max()\n",
    "\n",
    "out_baseline, out_baseline_seasonal = ds_annual.sel(time=slice(baseline_start, baseline_end)), ds_seasonal.sel(time=slice(baseline_start, baseline_end))\n",
    "out_baseline.attrs['t_bnds'] = [baseline_start, baseline_end]\n",
    "out_baseline_seasonal.attrs['t_bnds'] = [baseline_start, baseline_end]\n",
    "\n",
    "out_ssp245, out_ssp245_seasonal = ds_annual.sel(time=slice(SAI_assessment_period_start, SAI_assessment_period_end)), ds_seasonal.sel(time=slice(SAI_assessment_period_start, SAI_assessment_period_end))\n",
    "out_ssp245.attrs['t_bnds'] = [SAI_assessment_period_start, SAI_assessment_period_end]\n",
    "out_ssp245_seasonal.attrs['t_bnds'] = [SAI_assessment_period_start, SAI_assessment_period_end]"
   ]
  },
  {
   "cell_type": "code",
   "execution_count": null,
   "id": "2509714e-02d7-465d-9700-8baa40202490",
   "metadata": {},
   "outputs": [],
   "source": []
  },
  {
   "cell_type": "code",
   "execution_count": 24,
   "id": "7471ce8c-4460-4bfa-82b4-c58694a9a0cd",
   "metadata": {},
   "outputs": [],
   "source": [
    "def process_and_save(ds, ds_seasonal, label, seasons=seasons):\n",
    "    \"\"\" \n",
    "    Inputs\n",
    "    ds: a time resolved, quarterly resampled, spatial dataset, with an ensemble_member dimension\n",
    "    label: 'baseline', 'sai', or 'preindustrial'. Defines naming of outputs. \n",
    "    \n",
    "    Function saves the mean and standard deviation across the whole time+ens_mems combined dimension\n",
    "    \"\"\"\n",
    "    path = 'Output_data/{l}/'.format(l=label)\n",
    "    if not os.path.isdir(path):\n",
    "        os.mkdir(path)\n",
    "    \n",
    "    for season in seasons:\n",
    "        ds_season = ds_seasonal.where(ds_seasonal.time.dt.season == season, drop=True)\n",
    "        std = ds_season.std(dim=['time', 'Ensemble_member'])\n",
    "        mean = ds_season.mean(dim=['time', 'Ensemble_member'])\n",
    "        #except:\n",
    "        #    std = ds_season.std(dim=['time'])\n",
    "        #    mean = ds_season.mean(dim=['time'])\n",
    "\n",
    "        std.to_netcdf('Output_data/{l}/pr_max_{l}_{s}_std.nc'.format(l=label, s=season))\n",
    "        mean.to_netcdf('Output_data/{l}/pr_max_{l}_{s}_mean.nc'.format(l=label, s=season))\n",
    "        \n",
    "    # repeat for the annual mean:\n",
    "    #try:\n",
    "    ds.std(dim=['time', 'Ensemble_member']).to_netcdf('Output_data/{l}/pr_max_{l}_all_std.nc'.format(l=label))\n",
    "    ds.mean(dim=['time', 'Ensemble_member']).to_netcdf('Output_data/{l}/pr_max_{l}_all_mean.nc'.format(l=label))\n",
    "    #except:\n",
    "    #    ds.std(dim=['time']).to_netcdf('Output_data/{l}/pr_max_{l}_all_std.nc'.format(l=label))\n",
    "    #    ds.mean(dim=['time']).to_netcdf('Output_data/{l}/pr_max_{l}_all_mean.nc'.format(l=label))"
   ]
  },
  {
   "cell_type": "code",
   "execution_count": 7,
   "id": "ad8ea02a-8685-4953-ab2f-29a235e4ef1e",
   "metadata": {},
   "outputs": [],
   "source": [
    "process_and_save(ds = out_baseline,\n",
    "                 ds_seasonal = out_baseline_seasonal,\n",
    "                 label = 'SSP245_baseline',\n",
    "                 seasons=seasons)"
   ]
  },
  {
   "cell_type": "code",
   "execution_count": 8,
   "id": "9c7ebb34-b5f0-4fc1-8084-96d8b568a200",
   "metadata": {},
   "outputs": [],
   "source": [
    "process_and_save(ds = out_ssp245,\n",
    "                 ds_seasonal = out_ssp245_seasonal,\n",
    "                 label = 'SSP245',\n",
    "                 seasons=seasons)"
   ]
  },
  {
   "cell_type": "code",
   "execution_count": 16,
   "id": "3c483fb1-9dc9-4f77-b0b0-dfbad9c34c25",
   "metadata": {},
   "outputs": [],
   "source": [
    "### now repeat for ARISE:\n",
    "ds = get_ARISE_UKESM(variable=var, table='day')\n",
    "ds_seasonal = ds.resample(time=\"QS-DEC\").max()\n",
    "ds_annual = ds.resample(time=\"1Y\").max()\n",
    "\n",
    "out_arise, out_arise_seasonal = ds_annual.sel(time=slice(SAI_assessment_period_start, SAI_assessment_period_end)), ds_seasonal.sel(time=slice(SAI_assessment_period_start, SAI_assessment_period_end))\n",
    "out_arise.attrs['t_bnds'] = [SAI_assessment_period_start, SAI_assessment_period_end]\n",
    "out_arise_seasonal.attrs['t_bnds'] = [SAI_assessment_period_start, SAI_assessment_period_end]\n"
   ]
  },
  {
   "cell_type": "code",
   "execution_count": 21,
   "id": "baaf6e85-bf9e-4089-b602-0a59fb1f9b1e",
   "metadata": {},
   "outputs": [],
   "source": [
    "process_and_save(ds = out_arise,\n",
    "                 ds_seasonal = out_arise_seasonal,\n",
    "                 label = 'ARISE',\n",
    "                 seasons=seasons)"
   ]
  },
  {
   "cell_type": "code",
   "execution_count": null,
   "id": "7ee51458-b6f8-4be7-afdd-f013238ea583",
   "metadata": {},
   "outputs": [],
   "source": []
  },
  {
   "cell_type": "code",
   "execution_count": null,
   "id": "d4c216b3-2dba-4d63-bbaf-2ca4ec8c2724",
   "metadata": {},
   "outputs": [],
   "source": []
  },
  {
   "cell_type": "code",
   "execution_count": 28,
   "id": "9ed925e9-aa79-4dc1-ab1b-fa2e9d4931e9",
   "metadata": {},
   "outputs": [],
   "source": [
    "### TRY PLOTTING\n",
    "ds1 = xr.open_dataset('Output_data/SSP245/pr_max_SSP245_all_std.nc')\n",
    "ds2 = xr.open_dataset('Output_data/SSP245/pr_max_SSP245_JJA_mean.nc')\n",
    "ds3 = xr.open_dataset('Output_data/SSP245/pr_max_SSP245_DJF_mean.nc')\n",
    "ds4 = xr.open_dataset('Output_data/ARISE/pr_max_ARISE_all_mean.nc')\n",
    "ds5 = xr.open_dataset('Output_data/SSP245_baseline/pr_max_SSP245_baseline_all_mean.nc')"
   ]
  },
  {
   "cell_type": "code",
   "execution_count": null,
   "id": "65e1c923-1a4e-42b4-97bf-de0808d4d000",
   "metadata": {},
   "outputs": [],
   "source": []
  },
  {
   "cell_type": "code",
   "execution_count": null,
   "id": "11d9a067-ae9a-4093-a966-57c41042481f",
   "metadata": {},
   "outputs": [],
   "source": []
  }
 ],
 "metadata": {
  "kernelspec": {
   "display_name": "main",
   "language": "python",
   "name": "main"
  },
  "language_info": {
   "codemirror_mode": {
    "name": "ipython",
    "version": 3
   },
   "file_extension": ".py",
   "mimetype": "text/x-python",
   "name": "python",
   "nbconvert_exporter": "python",
   "pygments_lexer": "ipython3",
   "version": "3.10.5"
  }
 },
 "nbformat": 4,
 "nbformat_minor": 5
}
