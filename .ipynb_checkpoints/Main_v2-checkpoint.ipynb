{
 "cells": [
  {
   "cell_type": "markdown",
   "id": "821f66c5-5e94-4786-8fba-5508846cdebe",
   "metadata": {},
   "source": [
    "Notebook produces mean-states for ARISE and its reference scenario within defined time-windows and outputs these spatial fields to .nc files in /Output_data\n",
    "\n",
    "Made v0 on Wednesday 10th January 2024\n",
    "\n",
    "Alistair Duffey\n",
    "\n"
   ]
  },
  {
   "cell_type": "code",
   "execution_count": 1,
   "id": "a7e9d593-412e-4340-a2d2-2816992c7d5b",
   "metadata": {},
   "outputs": [],
   "source": [
    "import os\n",
    "import glob\n",
    "import pandas as pd\n",
    "import numpy as np\n",
    "import xarray as xr\n",
    "from xmip.preprocessing import rename_cmip6\n",
    "import matplotlib\n",
    "import matplotlib.pyplot as plt\n",
    "from nc_processing import calc_spatial_mean\n",
    "from tqdm import tqdm\n",
    "\n",
    "import warnings\n",
    "warnings.filterwarnings(\"ignore\")"
   ]
  },
  {
   "cell_type": "code",
   "execution_count": 2,
   "id": "84a5b53c-0063-41bd-a1f2-171cd56cc56e",
   "metadata": {},
   "outputs": [],
   "source": [
    "### options\n",
    "\n",
    "# Model\n",
    "model = 'UKESM1-0-LL' \n",
    "\n",
    "# SAI reference baseline (to be taken from joined historical-into-ssp245 runs)\n",
    "baseline_start, baseline_end = '2013','2032' # years are INCLUSIVE. gives warming of 1.49 in UKESM1, closest 20-year period to 1.5\n",
    "\n",
    "# SAI assessment period\n",
    "SAI_assessment_period_start, SAI_assessment_period_end = '2050', '2069' # years are INCLUSIVE\n",
    "\n",
    "# ARISE ensemble_members. We also only use these same members for the baseline\n",
    "ens_mems = ['r1i1p1f2', 'r2i1p1f2', 'r3i1p1f2', 'r4i1p1f2', 'r8i1p1f2']\n",
    "\n",
    "# variables to produce outputs for. Must be 2d (i.e. not on levels). \n",
    "vars = {'tas':'Amon',\n",
    "        'ts':'Amon', # surface temperature for SST analysis, use atmopsheric variable to avoid ocean grid pain\n",
    "        'pr':'Amon',\n",
    "        'prmax':'Amon',\n",
    "        'tasmax':'Amon',\n",
    "        'tasmin':'Amon',\n",
    "        'psl':'Amon',\n",
    "        'clwvi':'Amon',\n",
    "        'sfcWind':'Amon',\n",
    "        'sfcWindmax':'Amon',\n",
    "        'rsds':'Amon',\n",
    "        'rsdscs':'Amon',\n",
    "        'prsn':'Amon',\n",
    "        'snc':'LImon', # Snow Area Percentage [%]\n",
    "        'snw':'LImon', # Surface Snow Amount [kg m-2]\n",
    "        'evspsbl':'Amon',\n",
    "        'siconca':'SImon',\n",
    "        'npp':'Lmon',\n",
    "        'gpp':'Lmon'\n",
    "       }\n",
    "\n",
    "maxvars = ['tasmax', 'prmax', 'sfcWindmax'] # variables in this list will group by seasonal/annual max rather than mean\n",
    "minvars = ['tasmin'] # variables in this list will group by seasonal/annual min rather than mean\n",
    "\n",
    "# seasons\n",
    "seasons = ['DJF', 'MAM', 'JJA', 'SON']"
   ]
  },
  {
   "cell_type": "code",
   "execution_count": null,
   "id": "becc4ca3-ee3d-4cd9-877b-2eb91c48ca8b",
   "metadata": {},
   "outputs": [],
   "source": []
  },
  {
   "cell_type": "code",
   "execution_count": 3,
   "id": "8e9c6ccd-6c20-4f7f-bb8d-3aa986156ba6",
   "metadata": {},
   "outputs": [],
   "source": [
    "# make SSP245 ensemble mean pr ds\n",
    "def get_ssp245_ds(variable, table='Amon'):\n",
    "    ds_list = []\n",
    "    for es in ens_mems:\n",
    "        path = '/badc/cmip6/data/CMIP6/ScenarioMIP/MOHC/UKESM1-0-LL/ssp245/{e}/{t}/{v}/*/latest/'.format(e=es, t=table,v=variable)\n",
    "        ds = rename_cmip6(xr.open_mfdataset(path+'*.nc'))\n",
    "        \n",
    "        path_hist = glob.glob('/badc/cmip6/data/CMIP6/*/*/UKESM1-0-LL/historical/{e}/{t}/{v}/*/latest/'.format(\n",
    "        t=table, v=variable, e=es))[0]\n",
    "        ds_hist = rename_cmip6(xr.open_mfdataset(path_hist+'*.nc'))    \n",
    "        ds = xr.concat([ds_hist, ds], dim='time')\n",
    "        ds = ds.sel(time=slice('1990', '2150'))\n",
    "        if 'height' in ds.variables:\n",
    "            ds = ds.drop('height')\n",
    "        if 'type' in ds.variables:\n",
    "            ds = ds.drop('type')\n",
    "        ds_list.append(ds)\n",
    "    \n",
    "    DS = xr.concat(ds_list, dim='Ensemble_member')\n",
    "    return DS\n",
    "\n",
    "## similar, for PiControl\n",
    "def get_pi(model, variable='tas', table='Amon'):\n",
    "    dir_pi = glob.glob('/badc/cmip6/data/CMIP6/*/*/{m}/piControl/r1i*/{t}/{v}/*/latest/'.format(m=model, t=table, v=variable))\n",
    "    files_pi = os.listdir(dir_pi[0])[0:3] # don't need the full length run\n",
    "    paths_pi = []\n",
    "    for x in files_pi:\n",
    "        paths_pi.append(dir_pi[0]+x)\n",
    "    ds = rename_cmip6(xr.open_mfdataset(paths_pi))\n",
    "    if 'height' in ds.variables:\n",
    "        ds = ds.drop('height')\n",
    "    if 'type' in ds.variables:\n",
    "        ds = ds.drop('type')\n",
    "    return ds\n",
    "\n",
    "## for ARISE\n",
    "def get_ARISE_UKESM(variable='tas', table='Amon'):\n",
    "    ds_list = []\n",
    "    paths = glob.glob('/badc/deposited2022/arise/data/ARISE/MOHC/UKESM1-0-LL/arise-sai-1p5/*/{t}/{v}/*/*/'.format(\n",
    "    t=table, v=variable))\n",
    "    for path in paths:\n",
    "        ds = rename_cmip6(xr.open_mfdataset(path+'*.nc'))\n",
    "        if 'height' in ds.variables:\n",
    "            ds = ds.drop('height')\n",
    "        if 'type' in ds.variables:\n",
    "            ds = ds.drop('type')\n",
    "        ds_list.append(ds)\n",
    "    DS = xr.concat(ds_list, dim='Ensemble_member')\n",
    "    return DS\n",
    "\n",
    "def get_seasonal(ds, var):\n",
    "    if var in maxvars:\n",
    "        ds_seasonal = ds.resample(time=\"QS-DEC\").max()\n",
    "    elif var in minvars:\n",
    "        ds_seasonal = ds.resample(time=\"QS-DEC\").min()\n",
    "    else:\n",
    "        ds_seasonal = ds.resample(time=\"QS-DEC\").mean()\n",
    "    return ds_seasonal"
   ]
  },
  {
   "cell_type": "code",
   "execution_count": 4,
   "id": "8c0ce1b5-db4e-4d99-8807-7fe2a811d354",
   "metadata": {},
   "outputs": [
    {
     "name": "stdout",
     "output_type": "stream",
     "text": [
      "Getting baseline\n"
     ]
    },
    {
     "name": "stderr",
     "output_type": "stream",
     "text": [
      "100%|██████████| 14/14 [27:24<00:00, 117.47s/it] \n"
     ]
    }
   ],
   "source": [
    "print('Getting baseline')\n",
    "ds_list, ds_list_seasonal = [], []\n",
    "\n",
    "for var in tqdm(vars.keys()):\n",
    "    ds = get_ssp245_ds(variable=var, table=vars[var])\n",
    "    ds_seasonal = get_seasonal(ds, var)\n",
    "    ds, ds_seasonal = ds.sel(time=slice(baseline_start, baseline_end)), ds_seasonal.sel(time=slice(baseline_start, baseline_end))\n",
    "    ds.attrs['t_bnds'] = [baseline_start, baseline_end]\n",
    "    ds_seasonal.attrs['t_bnds'] = [baseline_start, baseline_end]\n",
    "    ds_list.append(ds)\n",
    "    ds_list_seasonal.append(ds_seasonal)\n",
    "\n",
    "out_baseline, out_baseline_seasonal = xr.merge(ds_list), xr.merge(ds_list_seasonal)"
   ]
  },
  {
   "cell_type": "code",
   "execution_count": null,
   "id": "c4e47efe-3544-4a26-a558-11166e589c7c",
   "metadata": {},
   "outputs": [],
   "source": []
  },
  {
   "cell_type": "code",
   "execution_count": 5,
   "id": "696d408a-9c49-4df7-a4ff-3ccfb7576187",
   "metadata": {},
   "outputs": [
    {
     "name": "stdout",
     "output_type": "stream",
     "text": [
      "Getting ssp245\n"
     ]
    },
    {
     "name": "stderr",
     "output_type": "stream",
     "text": [
      "100%|██████████| 14/14 [01:04<00:00,  4.59s/it]\n"
     ]
    }
   ],
   "source": [
    "print('Getting ssp245')\n",
    "ds_list, ds_list_seasonal = [], []\n",
    "\n",
    "for var in tqdm(vars.keys()):\n",
    "    ds = get_ssp245_ds(variable=var, table=vars[var])\n",
    "    #ds = ds.sel(time=slice(baseline_start, baseline_end)).groupby('time.season').mean(dim='time')\n",
    "    ds_seasonal = get_seasonal(ds, var)\n",
    "    ds, ds_seasonal = ds.sel(time=slice(SAI_assessment_period_start, SAI_assessment_period_end)), ds_seasonal.sel(time=slice(SAI_assessment_period_start, SAI_assessment_period_end))\n",
    "    ds.attrs['t_bnds'] = [SAI_assessment_period_start, SAI_assessment_period_end]\n",
    "    ds_seasonal.attrs['t_bnds'] = [SAI_assessment_period_start, SAI_assessment_period_end]\n",
    "    ds_list.append(ds)\n",
    "    ds_list_seasonal.append(ds_seasonal)\n",
    "\n",
    "out_ssp245, out_ssp245_seasonal = xr.merge(ds_list), xr.merge(ds_list_seasonal)"
   ]
  },
  {
   "cell_type": "code",
   "execution_count": 6,
   "id": "8d81970d-0f60-4e98-87e4-cbcc7d35dfc7",
   "metadata": {},
   "outputs": [
    {
     "name": "stdout",
     "output_type": "stream",
     "text": [
      "Getting PI\n"
     ]
    },
    {
     "name": "stderr",
     "output_type": "stream",
     "text": [
      "100%|██████████| 14/14 [02:06<00:00,  9.04s/it]\n"
     ]
    }
   ],
   "source": [
    "print('Getting PI')\n",
    "ds_list, ds_list_seasonal = [], []\n",
    "for var in tqdm(vars.keys()):\n",
    "    #print(var)\n",
    "    ds = get_pi(model, variable=var, table=vars[var])\n",
    "    ds_seasonal = get_seasonal(ds, var)\n",
    "    ds, ds_seasonal = ds.isel(time=slice(0, 100*12)), ds_seasonal.isel(time=slice(1, (100*4)+1)) #keep only 100 years\n",
    "    ds_list.append(ds)\n",
    "    ds_list_seasonal.append(ds_seasonal)\n",
    "    \n",
    "out_PI, out_PI_seasonal = xr.merge(ds_list), xr.merge(ds_list_seasonal)"
   ]
  },
  {
   "cell_type": "code",
   "execution_count": null,
   "id": "6f69aec8-03a9-4d2d-83f3-10758e5ed139",
   "metadata": {},
   "outputs": [],
   "source": []
  },
  {
   "cell_type": "code",
   "execution_count": null,
   "id": "531589ba-4461-4590-9460-67d5319fd1fd",
   "metadata": {},
   "outputs": [],
   "source": []
  },
  {
   "cell_type": "code",
   "execution_count": 7,
   "id": "fe282bc4-4c0e-4cb6-b6c9-86bc4d00bcb7",
   "metadata": {},
   "outputs": [
    {
     "name": "stdout",
     "output_type": "stream",
     "text": [
      "Getting ARISE\n"
     ]
    },
    {
     "name": "stderr",
     "output_type": "stream",
     "text": [
      "100%|██████████| 14/14 [01:52<00:00,  8.01s/it]\n"
     ]
    }
   ],
   "source": [
    "print('Getting ARISE')\n",
    "ds_list, ds_list_seasonal = [], []\n",
    "for var in tqdm(vars.keys()):\n",
    "    ds = get_ARISE_UKESM(variable=var, table=vars[var])\n",
    "    ds_seasonal = get_seasonal(ds, var)\n",
    "    ds, ds_seasonal = ds.sel(time=slice(SAI_assessment_period_start, SAI_assessment_period_end)), ds_seasonal.sel(time=slice(SAI_assessment_period_start, SAI_assessment_period_end))\n",
    "    ds.attrs['t_bnds'] = [SAI_assessment_period_start, SAI_assessment_period_end]\n",
    "    ds_seasonal.attrs['t_bnds'] = [SAI_assessment_period_start, SAI_assessment_period_end]\n",
    "    ds_list.append(ds)\n",
    "    ds_list_seasonal.append(ds_seasonal)\n",
    "out_ARISE, out_ARISE_seasonal = xr.merge(ds_list), xr.merge(ds_list_seasonal)"
   ]
  },
  {
   "cell_type": "code",
   "execution_count": 8,
   "id": "000fb2f0-33ee-4b92-b3cb-a425f33bc12b",
   "metadata": {},
   "outputs": [],
   "source": [
    "def process_and_save(ds, ds_seasonal, label, seasons=seasons):\n",
    "    \"\"\" \n",
    "    Inputs\n",
    "    ds: a time resolved, quarterly resampled, spatial dataset, with an ensemble_member dimension\n",
    "    label: 'baseline', 'sai', or 'preindustrial'. Defines naming of outputs. \n",
    "    \n",
    "    Function saves the mean and standard deviation across the whole time+ens_mems combined dimension\n",
    "    \"\"\"\n",
    "    path = 'Output_data/{l}/'.format(l=label)\n",
    "    if not os.path.isdir(path):\n",
    "        os.mkdir(path)\n",
    "    \n",
    "    for season in seasons:\n",
    "        ds_season = ds_seasonal.where(ds_seasonal.time.dt.season == season, drop=True)\n",
    "        try:\n",
    "            std = ds_season.std(dim=['time', 'Ensemble_member'])\n",
    "            mean = ds_season.mean(dim=['time', 'Ensemble_member'])\n",
    "        except:\n",
    "            std = ds_season.std(dim=['time'])\n",
    "            mean = ds_season.mean(dim=['time'])\n",
    "\n",
    "        std.to_netcdf('Output_data/{l}/{l}_{s}_std.nc'.format(l=label, s=season))\n",
    "        mean.to_netcdf('Output_data/{l}/{l}_{s}_mean.nc'.format(l=label, s=season))\n",
    "        \n",
    "    # repeat for the annual mean:\n",
    "    try:\n",
    "        ds.std(dim=['time', 'Ensemble_member']).to_netcdf('Output_data/{l}/{l}_all_std.nc'.format(l=label))\n",
    "        ds.mean(dim=['time', 'Ensemble_member']).to_netcdf('Output_data/{l}/{l}_all_mean.nc'.format(l=label))\n",
    "    except:\n",
    "        ds.std(dim=['time']).to_netcdf('Output_data/{l}/{l}_all_std.nc'.format(l=label))\n",
    "        ds.mean(dim=['time']).to_netcdf('Output_data/{l}/{l}_all_mean.nc'.format(l=label))"
   ]
  },
  {
   "cell_type": "code",
   "execution_count": 9,
   "id": "9a21b9cf-a6a8-4d10-86db-0ab98ca47f7c",
   "metadata": {},
   "outputs": [],
   "source": [
    "dict_to_run = {\"SSP245_baseline\" : [out_baseline, out_baseline_seasonal],\n",
    "               \"SSP245\" : [out_ssp245, out_ssp245_seasonal],\n",
    "               \"preindustrial\": [out_PI, out_PI_seasonal],\n",
    "               \"ARISE\": [out_ARISE, out_ARISE_seasonal]}"
   ]
  },
  {
   "cell_type": "code",
   "execution_count": 10,
   "id": "23f0cf46-34f0-4b12-afd8-fbb24a9f3793",
   "metadata": {},
   "outputs": [
    {
     "name": "stdout",
     "output_type": "stream",
     "text": [
      "SSP245_baseline\n",
      "SSP245\n",
      "preindustrial\n",
      "ARISE\n"
     ]
    }
   ],
   "source": [
    "for key in dict_to_run.keys(): #takes maybe 20-30 mins with 14 variables\n",
    "    print(key)\n",
    "    process_and_save(ds = dict_to_run[key][0],\n",
    "                     ds_seasonal = dict_to_run[key][1],\n",
    "                     label = key,\n",
    "                     seasons=seasons)"
   ]
  },
  {
   "cell_type": "code",
   "execution_count": null,
   "id": "74f59a4d-ce03-431b-8eb4-2f217343e245",
   "metadata": {},
   "outputs": [],
   "source": []
  },
  {
   "cell_type": "code",
   "execution_count": null,
   "id": "283edd19-6611-4b65-9248-5f7fe2daf974",
   "metadata": {},
   "outputs": [],
   "source": []
  },
  {
   "cell_type": "code",
   "execution_count": null,
   "id": "e710e70e-d79d-4178-a28a-a7e80343b7db",
   "metadata": {},
   "outputs": [],
   "source": []
  },
  {
   "cell_type": "code",
   "execution_count": null,
   "id": "40f7c24b-e86a-44bc-ab33-ac3bb7763907",
   "metadata": {},
   "outputs": [],
   "source": []
  },
  {
   "cell_type": "code",
   "execution_count": null,
   "id": "1fcb84ae-08eb-4ab7-889c-3ba2ee82fdc9",
   "metadata": {},
   "outputs": [],
   "source": []
  },
  {
   "cell_type": "code",
   "execution_count": null,
   "id": "96537824-7c3b-4f11-bd10-4fd98726df38",
   "metadata": {},
   "outputs": [],
   "source": []
  },
  {
   "cell_type": "code",
   "execution_count": null,
   "id": "015c2bb5-ea64-4cb4-a885-c67780aae2e6",
   "metadata": {},
   "outputs": [],
   "source": []
  },
  {
   "cell_type": "code",
   "execution_count": null,
   "id": "a5816b81-54cc-4399-a290-8ffb5a3be9e3",
   "metadata": {},
   "outputs": [],
   "source": []
  }
 ],
 "metadata": {
  "kernelspec": {
   "display_name": "main",
   "language": "python",
   "name": "main"
  },
  "language_info": {
   "codemirror_mode": {
    "name": "ipython",
    "version": 3
   },
   "file_extension": ".py",
   "mimetype": "text/x-python",
   "name": "python",
   "nbconvert_exporter": "python",
   "pygments_lexer": "ipython3",
   "version": "3.10.5"
  }
 },
 "nbformat": 4,
 "nbformat_minor": 5
}
