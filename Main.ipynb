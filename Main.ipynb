{
 "cells": [
  {
   "cell_type": "markdown",
   "id": "821f66c5-5e94-4786-8fba-5508846cdebe",
   "metadata": {},
   "source": [
    "Notebook produces mean-states for ARISE and its reference scenario within defined time-windows and outputs these spatial fields to .nc files in /Output_data\n",
    "\n",
    "Made v0 on Wednesday 10th January 2024\n",
    "\n",
    "Alistair Duffey\n",
    "\n"
   ]
  },
  {
   "cell_type": "code",
   "execution_count": 81,
   "id": "a7e9d593-412e-4340-a2d2-2816992c7d5b",
   "metadata": {},
   "outputs": [],
   "source": [
    "import os\n",
    "import glob\n",
    "import pandas as pd\n",
    "import numpy as np\n",
    "import xarray as xr\n",
    "from xmip.preprocessing import rename_cmip6\n",
    "import matplotlib\n",
    "import matplotlib.pyplot as plt\n",
    "from nc_processing import calc_spatial_mean\n",
    "from tqdm import tqdm"
   ]
  },
  {
   "cell_type": "code",
   "execution_count": 111,
   "id": "84a5b53c-0063-41bd-a1f2-171cd56cc56e",
   "metadata": {},
   "outputs": [],
   "source": [
    "### options\n",
    "\n",
    "# Model\n",
    "model = 'UKESM1-0-LL' \n",
    "\n",
    "# SAI reference baseline (to be taken from joined historical-into-ssp245 runs)\n",
    "baseline_start, baseline_end = '2013','2032' # years are INCLUSIVE. gives warming of 1.49 in UKESM1, closest 20-year period to 1.5\n",
    "\n",
    "# SAI assessment period\n",
    "arise_period_start, arise_period_end = '2050', '2069' # years are INCLUSIVE\n",
    "\n",
    "# ARISE ensemble_members. We also only use these same members for the baseline\n",
    "ens_mems = ['r1i1p1f2', 'r2i1p1f2', 'r3i1p1f2', 'r4i1p1f2', 'r8i1p1f2']\n",
    "\n",
    "# variables to produce outputs for. Must be 2d (i.e. not on levels). \n",
    "vars = ['tas', 'pr', 'tasmax', 'tasmin', 'psl']"
   ]
  },
  {
   "cell_type": "code",
   "execution_count": 120,
   "id": "8e9c6ccd-6c20-4f7f-bb8d-3aa986156ba6",
   "metadata": {},
   "outputs": [],
   "source": [
    "# make SSP245 ensemble mean pr ds\n",
    "def get_ssp245_ds(variable, table='Amon', grid='gn'):\n",
    "    ds_list = []\n",
    "    for es in ens_mems:\n",
    "        path = '/badc/cmip6/data/CMIP6/ScenarioMIP/MOHC/UKESM1-0-LL/ssp245/{e}/{t}/{v}/{g}/latest/'.format(e=es, t=table,v=variable, g=grid)\n",
    "        ds = rename_cmip6(xr.open_mfdataset(path+'*.nc'))\n",
    "        \n",
    "        path_hist = glob.glob('/badc/cmip6/data/CMIP6/*/*/UKESM1-0-LL/historical/{e}/{t}/{v}/*/latest/'.format(\n",
    "        t=table, v=variable, e=es))[0]\n",
    "        ds_hist = rename_cmip6(xr.open_mfdataset(path_hist+'*.nc'))    \n",
    "        ds = xr.concat([ds_hist, ds], dim='time')\n",
    "        ds = ds.sel(time=slice('1990', '2150'))\n",
    "        \n",
    "        ds_list.append(ds)\n",
    "    \n",
    "    DS = xr.concat(ds_list, dim='Ensemble_member')\n",
    "    return DS\n",
    "\n",
    "## similar, for PiControl\n",
    "def get_pi(model, variable='tas', table='Amon'):\n",
    "    dir_pi = glob.glob('/badc/cmip6/data/CMIP6/*/*/{m}/piControl/r1i*/{t}/{v}/*/latest/'.format(m=model, t=table, v=variable))\n",
    "    files_pi = os.listdir(dir_pi[0])[0:3] # don't need the full length run\n",
    "    paths_pi = []\n",
    "    for x in files_pi:\n",
    "        paths_pi.append(dir_pi[0]+x)\n",
    "    ds_pi = rename_cmip6(xr.open_mfdataset(paths_pi))\n",
    "    #ds_pi = ds_pi.mean(dim='time')\n",
    "    ds_pi = ds_pi.groupby('time.season').mean('time')\n",
    "    return ds_pi\n",
    "\n",
    "## for ARISE\n",
    "def get_ARISE_UKESM(variable='tas', table='Amon'):\n",
    "    ds_list = []\n",
    "    paths = glob.glob('/badc/deposited2022/arise/data/ARISE/MOHC/UKESM1-0-LL/arise-sai-1p5/*/{t}/{v}/gn/*/'.format(\n",
    "    t=table, v=variable))\n",
    "    for path in paths:\n",
    "        ds = rename_cmip6(xr.open_mfdataset(path+'*.nc'))\n",
    "        ds_list.append(ds)\n",
    "    DS = xr.concat(ds_list, dim='Ensemble_member')\n",
    "    return DS"
   ]
  },
  {
   "cell_type": "code",
   "execution_count": 125,
   "id": "8c0ce1b5-db4e-4d99-8807-7fe2a811d354",
   "metadata": {},
   "outputs": [
    {
     "name": "stdout",
     "output_type": "stream",
     "text": [
      "Running baseline\n"
     ]
    },
    {
     "name": "stderr",
     "output_type": "stream",
     "text": [
      "100%|██████████| 5/5 [00:06<00:00,  1.31s/it]\n"
     ]
    }
   ],
   "source": [
    "print('Running baseline')\n",
    "ds_list = []\n",
    "for var in tqdm(vars):\n",
    "    ds = get_ssp245_ds(variable=var, table='Amon')\n",
    "    ds = ds.sel(time=slice(baseline_start, baseline_end)).groupby('time.season').mean(dim='time')\n",
    "    ds.attrs['t_bnds'] = [baseline_start, baseline_end]\n",
    "    ds_list.append(ds)\n",
    "out_baseline = xr.merge(ds_list)\n",
    "#out_baseline.to_netcdf('Output_data/ssp245_baseline.nc')\n",
    "out_baseline.mean(dim='Ensemble_member').to_netcdf('Output_data/ssp245_baseline_ens_mean.nc')\n",
    "out_baseline.std(dim='Ensemble_member').to_netcdf('Output_data/ssp245_baseline_ens_std.nc')"
   ]
  },
  {
   "cell_type": "code",
   "execution_count": 126,
   "id": "2596981d-666d-4e41-8191-b7f128c7933b",
   "metadata": {},
   "outputs": [
    {
     "name": "stdout",
     "output_type": "stream",
     "text": [
      "Running PI\n"
     ]
    },
    {
     "name": "stderr",
     "output_type": "stream",
     "text": [
      "100%|██████████| 5/5 [00:01<00:00,  3.24it/s]\n"
     ]
    }
   ],
   "source": [
    "print('Running PI')\n",
    "ds_list = []\n",
    "for var in tqdm(vars):\n",
    "    ds = get_pi(model, variable=var)\n",
    "    ds_list.append(ds)\n",
    "out_PI = xr.merge(ds_list)\n",
    "out_PI.to_netcdf('Output_data/Preindustrial_control.nc')"
   ]
  },
  {
   "cell_type": "code",
   "execution_count": 127,
   "id": "85d431f8-1ccc-4962-88dd-4351cc9b5bfc",
   "metadata": {},
   "outputs": [
    {
     "name": "stdout",
     "output_type": "stream",
     "text": [
      "Running ARISE\n"
     ]
    },
    {
     "name": "stderr",
     "output_type": "stream",
     "text": [
      "100%|██████████| 5/5 [00:08<00:00,  1.63s/it]\n"
     ]
    }
   ],
   "source": [
    "print('Running ARISE')\n",
    "ds_list = []\n",
    "for var in tqdm(vars):\n",
    "    ds = get_ARISE_UKESM(variable=var, table='Amon')\n",
    "    ds = ds.sel(time=slice(arise_period_start, arise_period_end)).groupby('time.season').mean(dim='time')\n",
    "    ds.attrs['t_bnds'] = [arise_period_start, arise_period_end]\n",
    "    ds_list.append(ds)\n",
    "out_ARISE = xr.merge(ds_list)\n",
    "#out_ARISE.to_netcdf('Output_data/ARISE.nc')\n",
    "out_ARISE.mean(dim='Ensemble_member').to_netcdf('Output_data/ARISE_ens_mean.nc')\n",
    "out_ARISE.std(dim='Ensemble_member').to_netcdf('Output_data/ARISE_ens_std.nc')"
   ]
  },
  {
   "cell_type": "code",
   "execution_count": 135,
   "id": "40f7c24b-e86a-44bc-ab33-ac3bb7763907",
   "metadata": {},
   "outputs": [
    {
     "data": {
      "image/png": "[encoded data removed]",
      "text/plain": [
       "<Figure size 432x288 with 2 Axes>"
      ]
     },
     "metadata": {
      "needs_background": "light"
     },
     "output_type": "display_data"
    }
   ],
   "source": [
    "## plot to check:\n",
    "check_var = 'tas'\n",
    "arise = out_ARISE.mean(dim='Ensemble_member').mean(dim='season')[check_var]\n",
    "baseline = out_baseline.mean(dim='Ensemble_member').mean(dim='season')[check_var]\n",
    "\n",
    "(arise - baseline).plot()\n",
    "plt.title('ARISE - baseline')\n",
    "plt.show()"
   ]
  },
  {
   "cell_type": "code",
   "execution_count": null,
   "id": "1fcb84ae-08eb-4ab7-889c-3ba2ee82fdc9",
   "metadata": {},
   "outputs": [],
   "source": []
  },
  {
   "cell_type": "code",
   "execution_count": null,
   "id": "96537824-7c3b-4f11-bd10-4fd98726df38",
   "metadata": {},
   "outputs": [],
   "source": []
  },
  {
   "cell_type": "code",
   "execution_count": null,
   "id": "015c2bb5-ea64-4cb4-a885-c67780aae2e6",
   "metadata": {},
   "outputs": [],
   "source": []
  },
  {
   "cell_type": "code",
   "execution_count": null,
   "id": "a5816b81-54cc-4399-a290-8ffb5a3be9e3",
   "metadata": {},
   "outputs": [],
   "source": []
  }
 ],
 "metadata": {
  "kernelspec": {
   "display_name": "main",
   "language": "python",
   "name": "main"
  },
  "language_info": {
   "codemirror_mode": {
    "name": "ipython",
    "version": 3
   },
   "file_extension": ".py",
   "mimetype": "text/x-python",
   "name": "python",
   "nbconvert_exporter": "python",
   "pygments_lexer": "ipython3",
   "version": "3.10.5"
  }
 },
 "nbformat": 4,
 "nbformat_minor": 5
}
